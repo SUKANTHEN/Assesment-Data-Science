{
  "nbformat": 4,
  "nbformat_minor": 0,
  "metadata": {
    "colab": {
      "name": "Assignment4",
      "provenance": [],
      "collapsed_sections": []
    },
    "kernelspec": {
      "name": "python3",
      "display_name": "Python 3"
    },
    "language_info": {
      "name": "python"
    }
  },
  "cells": [
    {
      "cell_type": "markdown",
      "source": [
        "import numpy"
      ],
      "metadata": {
        "id": "FlgKYnrRvTfI"
      }
    },
    {
      "cell_type": "code",
      "execution_count": 1,
      "metadata": {
        "id": "Ldnf9HhbXTW0"
      },
      "outputs": [],
      "source": [
        "import numpy as np"
      ]
    },
    {
      "cell_type": "markdown",
      "source": [
        "define data path"
      ],
      "metadata": {
        "id": "sW4PSbX2vW30"
      }
    },
    {
      "cell_type": "code",
      "source": [
        "train_data_path = \"/content/train_data.csv\"\n",
        "test_data_path = \"/content/test_data_set.csv\""
      ],
      "metadata": {
        "id": "qVlYurleYc-b"
      },
      "execution_count": 2,
      "outputs": []
    },
    {
      "cell_type": "markdown",
      "source": [
        "Load Dataset"
      ],
      "metadata": {
        "id": "bCg1GEjevaE_"
      }
    },
    {
      "cell_type": "code",
      "source": [
        "phi = np.loadtxt(train_data_path, dtype='float', delimiter=',', skiprows=1,usecols=tuple(range(1, 14)))\n",
        "y = np.loadtxt(train_data_path, dtype='float', delimiter=',', skiprows=1,usecols=14, ndmin=2)\n",
        "phi_test = np.loadtxt(test_data_path, dtype='float', delimiter=',',skiprows=1, usecols=tuple(range(1, 14)))"
      ],
      "metadata": {
        "id": "JMZUQONpafJ_"
      },
      "execution_count": 3,
      "outputs": []
    },
    {
      "cell_type": "markdown",
      "source": [
        "Concatenate datasets with required features"
      ],
      "metadata": {
        "id": "m1TMKdE-vtFh"
      }
    },
    {
      "cell_type": "code",
      "source": [
        "phi_test = np.concatenate((phi_test, np.ones((105, 1))), axis=1)\n",
        "phi = np.concatenate((phi, np.ones((400, 1))), axis=1)"
      ],
      "metadata": {
        "id": "J_tkYXIQa2Go"
      },
      "execution_count": 4,
      "outputs": []
    },
    {
      "cell_type": "markdown",
      "source": [
        "Feature Engineering"
      ],
      "metadata": {
        "id": "1lZwkoVGvpE2"
      }
    },
    {
      "cell_type": "code",
      "source": [
        "for i in range(0, 13):\n",
        "    col_max = max(phi[:, i])\n",
        "    col_min = min(phi[:, i])\n",
        "    phi[:, i] = (phi[:, i] - col_min) / (col_max - col_min)\n",
        "    phi_test[:, i] = (phi_test[:, i] - col_min) / (col_max - col_min)\n",
        "# Log scaling on y\n",
        "y = np.log(y)"
      ],
      "metadata": {
        "id": "GztYr9opbF_O"
      },
      "execution_count": 5,
      "outputs": []
    },
    {
      "cell_type": "code",
      "source": [
        "# Comparison of performance\n",
        "def delta_w(p, phi, w):\n",
        "    if p == 2:\n",
        "        deltaw = (2 * (np.dot(np.dot(np.transpose(phi), phi), w) -\n",
        "                       np.dot(np.transpose(phi), y)) +\n",
        "                  lambd * p * np.power(np.absolute(w), (p - 1)))\n",
        "    if p < 2 and p > 1:\n",
        "        deltaw = (2 * (np.dot(np.dot(np.transpose(phi), phi), w) -\n",
        "                       np.dot(np.transpose(phi), y)) +\n",
        "                  lambd * p * np.power(np.absolute(w), (p - 1)) * np.sign(w))\n",
        "    return deltaw\n",
        "\n",
        "\n",
        "# Dictionary with filenames as keys and p as values\n",
        "filenames = {'output.csv': 2.0,'output_p1.csv': 1.75,'output_p2.csv': 1.5,'output_p3.csv': 1.3}\n",
        "\n",
        "\n",
        "for (fname, p) in filenames.items():\n",
        "    w = np.zeros((14, 1))\n",
        "    lambd = 0.2\n",
        "    t = 0.00012\n",
        "    w_new = w - t * delta_w(p, phi, w)\n",
        "    i = 0\n",
        "    while(np.linalg.norm(w_new-w) > 10 ** -10):\n",
        "        w = w_new\n",
        "        w_new = w - t * delta_w(p, phi, w)\n",
        "        i = i + 1\n",
        "    id_test = np.loadtxt(test_data_path, dtype='int', delimiter=',',skiprows=1, usecols=0, ndmin=2)\n",
        "    \n",
        "    y_test = np.exp(np.dot(phi_test, w_new))\n",
        "    np.savetxt(fname, np.concatenate((id_test, y_test), axis=1),\n",
        "               delimiter=',', fmt=['%d', '%f'], header='ID,MEDV', comments='')"
      ],
      "metadata": {
        "id": "4VuX_be5aZ15"
      },
      "execution_count": 6,
      "outputs": []
    }
  ]
}