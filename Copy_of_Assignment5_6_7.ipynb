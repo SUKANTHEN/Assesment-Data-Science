{
  "cells": [
    {
      "cell_type": "code",
      "execution_count": 42,
      "metadata": {
        "id": "FhPh08YTO-Sk"
      },
      "outputs": [],
      "source": [
        "import pandas as pd\n",
        "import matplotlib.pyplot as plt\n",
        "import numpy as np\n",
        "from sklearn import linear_model\n",
        "import warnings\n",
        "warnings.filterwarnings('ignore')"
      ]
    },
    {
      "cell_type": "markdown",
      "metadata": {
        "id": "NE97FXT1O-Ss"
      },
      "source": [
        "# Assignment5\n"
      ]
    },
    {
      "cell_type": "markdown",
      "metadata": {
        "id": "aMJaSA4EO-Sw"
      },
      "source": [
        "## Ground Cricket Chirps\n",
        "\n",
        "In _The Song of Insects_ (1948) by George W. Pierce, Pierce mechanically measured the frequency (the number of wing vibrations per second) of chirps (or pulses of sound) made by a striped ground cricket, at various ground temperatures.  Since crickets are ectotherms (cold-blooded), the rate of their physiological processes and their overall metabolism are influenced by temperature.  Consequently, there is reason to believe that temperature would have a profound effect on aspects of their behavior, such as chirp frequency.\n",
        "\n",
        "In general, it was found that crickets did not sing at temperatures colder than 60º F. or warmer than 100º F."
      ]
    },
    {
      "cell_type": "code",
      "execution_count": 43,
      "metadata": {
        "id": "WgD7IOE2O-Sz"
      },
      "outputs": [],
      "source": [
        "ground_cricket_data = {\"Chirps/Second\": [20.0, 16.0, 19.8, 18.4, 17.1, 15.5, 14.7,\n",
        "                                         15.7, 15.4, 16.3, 15.0, 17.2, 16.0, 17.0,\n",
        "                                         14.4],\n",
        "                       \"Ground Temperature\": [88.6, 71.6, 93.3, 84.3, 80.6, 75.2, 69.7,\n",
        "                                              71.6, 69.4, 83.3, 79.6, 82.6, 80.6, 83.5,\n",
        "                                              76.3]}\n",
        "df = pd.DataFrame(ground_cricket_data)"
      ]
    },
    {
      "cell_type": "markdown",
      "metadata": {
        "id": "r0VvDp6UO-S3"
      },
      "source": [
        "### Tasks\n",
        "\n",
        "1. Find the linear regression equation for this data.\n",
        "2. Chart the original data and the equation on the chart.\n",
        "3. Find the equation's $R^2$ score (use the `.score` method) to determine whether the\n",
        "equation is a good fit for this data. (0.8 and greater is considered a strong correlation.)\n",
        "4. Extrapolate data:  If the ground temperature reached 95, then at what approximate rate would you expect the crickets to be chirping?\n",
        "5. Interpolate data:  With a listening device, you discovered that on a particular morning the crickets were chirping at a rate of 18 chirps per second.  What was the approximate ground temperature that morning? "
      ]
    },
    {
      "cell_type": "markdown",
      "source": [
        "**1. Find the linear regression equation for this data.**"
      ],
      "metadata": {
        "id": "n0difUMlSSwL"
      }
    },
    {
      "cell_type": "code",
      "source": [
        "plt.scatter(df[\"Ground Temperature\"], df[\"Chirps/Second\"], c =\"blue\")\n",
        "# To show the plot\n",
        "plt.show()"
      ],
      "metadata": {
        "id": "EKWi4eXrQGno",
        "outputId": "24925c0a-3a28-415b-a097-f28308454895",
        "colab": {
          "base_uri": "https://localhost:8080/",
          "height": 265
        }
      },
      "execution_count": 44,
      "outputs": [
        {
          "output_type": "display_data",
          "data": {
            "text/plain": [
              "<Figure size 432x288 with 1 Axes>"
            ],
            "image/png": "[encoded data removed]"
          },
          "metadata": {
            "needs_background": "light"
          }
        }
      ]
    },
    {
      "cell_type": "code",
      "source": [
        "reg = linear_model.LinearRegression()\n",
        "# train the model using the training sets\n",
        "x = df[[\"Ground Temperature\"]]\n",
        "y =  df[\"Chirps/Second\"]\n",
        "#x = np.array(x)\n",
        "#y = np.array(y)\n",
        "reg.fit(x,y)\n",
        "# regression coefficients\n",
        "print('intercept:', reg.intercept_)\n",
        "print('Coefficients: ', reg.coef_)"
      ],
      "metadata": {
        "id": "IveNbjdNPqqB",
        "outputId": "27e3a3e4-31c7-42e8-a73c-35ceb5b9410c",
        "colab": {
          "base_uri": "https://localhost:8080/"
        }
      },
      "execution_count": 45,
      "outputs": [
        {
          "output_type": "stream",
          "name": "stdout",
          "text": [
            "intercept: 0.45931464523595267\n",
            "Coefficients:  [0.20299973]\n"
          ]
        }
      ]
    },
    {
      "cell_type": "code",
      "source": [
        "import statsmodels.api as sm\n",
        "\n",
        "x = df[[\"Ground Temperature\"]]\n",
        "y =  df[\"Chirps/Second\"]\n",
        "\n",
        "#performing the regression\n",
        "result = sm.OLS(x,y).fit()\n",
        "\n",
        "# Result of statsmodels \n",
        "print(result.summary())"
      ],
      "metadata": {
        "id": "OV1fTGQGR6HV",
        "outputId": "745738e2-853c-42d6-926c-7aa4393d4178",
        "colab": {
          "base_uri": "https://localhost:8080/"
        }
      },
      "execution_count": 46,
      "outputs": [
        {
          "output_type": "stream",
          "name": "stdout",
          "text": [
            "                                 OLS Regression Results                                \n",
            "=======================================================================================\n",
            "Dep. Variable:     Ground Temperature   R-squared (uncentered):                   0.997\n",
            "Model:                            OLS   Adj. R-squared (uncentered):              0.997\n",
            "Method:                 Least Squares   F-statistic:                              4583.\n",
            "Date:                Sat, 14 May 2022   Prob (F-statistic):                    5.09e-19\n",
            "Time:                        13:20:26   Log-Likelihood:                         -43.490\n",
            "No. Observations:                  15   AIC:                                      88.98\n",
            "Df Residuals:                      14   BIC:                                      89.69\n",
            "Df Model:                           1                                                  \n",
            "Covariance Type:            nonrobust                                                  \n",
            "=================================================================================\n",
            "                    coef    std err          t      P>|t|      [0.025      0.975]\n",
            "---------------------------------------------------------------------------------\n",
            "Chirps/Second     4.7759      0.071     67.701      0.000       4.625       4.927\n",
            "==============================================================================\n",
            "Omnibus:                        0.918   Durbin-Watson:                   0.845\n",
            "Prob(Omnibus):                  0.632   Jarque-Bera (JB):                0.786\n",
            "Skew:                           0.302   Prob(JB):                        0.675\n",
            "Kurtosis:                       2.055   Cond. No.                         1.00\n",
            "==============================================================================\n",
            "\n",
            "Warnings:\n",
            "[1] Standard Errors assume that the covariance matrix of the errors is correctly specified.\n"
          ]
        }
      ]
    },
    {
      "cell_type": "code",
      "source": [
        "plt.scatter(x, y, color='blue')\n",
        "plt.plot(x,reg.predict(x), color='red')"
      ],
      "metadata": {
        "colab": {
          "base_uri": "https://localhost:8080/",
          "height": 282
        },
        "id": "6ow4bLwjWMdC",
        "outputId": "3981ea33-8c3f-4a96-e9bf-e2c3a83db4c0"
      },
      "execution_count": 47,
      "outputs": [
        {
          "output_type": "execute_result",
          "data": {
            "text/plain": [
              "[<matplotlib.lines.Line2D at 0x7f4757456090>]"
            ]
          },
          "metadata": {},
          "execution_count": 47
        },
        {
          "output_type": "display_data",
          "data": {
            "text/plain": [
              "<Figure size 432x288 with 1 Axes>"
            ],
            "image/png": "[encoded data removed]"
          },
          "metadata": {
            "needs_background": "light"
          }
        }
      ]
    },
    {
      "cell_type": "markdown",
      "source": [
        "**2. Chart the original data and the equation on the chart**"
      ],
      "metadata": {
        "id": "2ne5tCLdSzTY"
      }
    },
    {
      "cell_type": "code",
      "source": [
        "# 𝑓(𝑥₁, 𝑥₂) = 𝑏₀ + 𝑏₁𝑥₁ + 𝑏₂𝑥₂ + 𝑏₃𝑥₁² + 𝑏₄𝑥₁𝑥₂ + 𝑏₅𝑥₂²\n",
        "print(f\"y = {reg.coef_[0]}*x + {reg.intercept_}\")"
      ],
      "metadata": {
        "id": "dXYgoKd6S08F",
        "colab": {
          "base_uri": "https://localhost:8080/"
        },
        "outputId": "d04cf0d2-3596-4397-acae-8d0c518454d9"
      },
      "execution_count": 48,
      "outputs": [
        {
          "output_type": "stream",
          "name": "stdout",
          "text": [
            "y = 0.20299973140771363*x + 0.45931464523595267\n"
          ]
        }
      ]
    },
    {
      "cell_type": "markdown",
      "source": [
        "**3. Find the equation's  R2  score (use the .score method) to determine whether the equation is a good fit for this data. (0.8 and greater is considered a strong correlation.)**"
      ],
      "metadata": {
        "id": "8aeLcsloYF-P"
      }
    },
    {
      "cell_type": "code",
      "source": [
        "print('r-squared: ',reg.score(x, y))"
      ],
      "metadata": {
        "colab": {
          "base_uri": "https://localhost:8080/"
        },
        "id": "r6dIsN-7Wzd5",
        "outputId": "98c62477-2fdf-4972-e3ce-a8522fad1355"
      },
      "execution_count": 49,
      "outputs": [
        {
          "output_type": "stream",
          "name": "stdout",
          "text": [
            "r-squared:  0.6922946529146998\n"
          ]
        }
      ]
    },
    {
      "cell_type": "markdown",
      "source": [
        "**4. Extrapolate data:  If the ground temperature reached 95, then at what approximate rate would you expect the crickets to be chirping?**"
      ],
      "metadata": {
        "id": "bfzAjMc0YTEq"
      }
    },
    {
      "cell_type": "code",
      "source": [
        "x = [95]\n",
        "x =np.array(x).reshape(-1,1)\n",
        "pred = reg.predict(x)\n",
        "print('At 95˚F, our approximation of chirps/sec is :',pred[0])"
      ],
      "metadata": {
        "colab": {
          "base_uri": "https://localhost:8080/"
        },
        "id": "31nOhRnZYIAg",
        "outputId": "8bd529de-a578-4a54-a6f4-a2fe7b37317f"
      },
      "execution_count": 50,
      "outputs": [
        {
          "output_type": "stream",
          "name": "stdout",
          "text": [
            "At 95˚F, our approximation of chirps/sec is : 19.74428912896875\n"
          ]
        }
      ]
    },
    {
      "cell_type": "markdown",
      "source": [
        "**5. Interpolate data:  With a listening device, you discovered that on a particular morning the crickets were chirping at a rate of 18 chirps per second.  What was the approximate ground temperature that morning?**"
      ],
      "metadata": {
        "id": "AqAEo9vaYjM-"
      }
    },
    {
      "cell_type": "code",
      "source": [
        "ret = (18 - reg.intercept_) / reg.coef_[0]\n",
        "print(f'For observation of {18} chirps/sec,we expect a ground temp of {ret}˚F')"
      ],
      "metadata": {
        "colab": {
          "base_uri": "https://localhost:8080/"
        },
        "id": "gj8BUPsGcUKj",
        "outputId": "9aef8775-5de4-4a3a-8eb5-78b7ba68fa1d"
      },
      "execution_count": 51,
      "outputs": [
        {
          "output_type": "stream",
          "name": "stdout",
          "text": [
            "For observation of 18 chirps/sec,we expect a ground temp of 86.40743134548568˚F\n"
          ]
        }
      ]
    },
    {
      "cell_type": "markdown",
      "metadata": {
        "id": "9S6N_Lj4O-S7"
      },
      "source": [
        "# Assignment6"
      ]
    },
    {
      "cell_type": "markdown",
      "metadata": {
        "id": "49pbt7EmO-S8"
      },
      "source": [
        "## Brain vs. Body Weight\n",
        "\n",
        "In the file `brain_body.txt`, the average brain and body weight for a number of mammal species are recorded. Load this data into a Pandas data frame.\n",
        "\n",
        "### Tasks\n",
        "\n",
        "1. Find the linear regression equation for this data for brain weight to body weight.\n",
        "2. Chart the original data and the equation on the chart.\n",
        "3. Find the equation's $R^2$ score (use the `.score` method) to determine whether the\n",
        "equation is a good fit for this data. (0.8 and greater is considered a strong correlation.)"
      ]
    },
    {
      "cell_type": "code",
      "execution_count": 52,
      "metadata": {
        "id": "wYsfwNEJO-S-"
      },
      "outputs": [],
      "source": [
        "df = pd.read_fwf(\"/content/brain_body.txt\")"
      ]
    },
    {
      "cell_type": "code",
      "source": [
        "df"
      ],
      "metadata": {
        "colab": {
          "base_uri": "https://localhost:8080/",
          "height": 424
        },
        "id": "ocUHIWmNdb4T",
        "outputId": "11b5aa70-824f-4b22-fad0-d5371268e551"
      },
      "execution_count": 53,
      "outputs": [
        {
          "output_type": "execute_result",
          "data": {
            "text/plain": [
              "      Brain   Body\n",
              "0     3.385   44.5\n",
              "1     0.480   15.5\n",
              "2     1.350    8.1\n",
              "3   465.000  423.0\n",
              "4    36.330  119.5\n",
              "..      ...    ...\n",
              "57  160.000  169.0\n",
              "58    0.900    2.6\n",
              "59    1.620   11.4\n",
              "60    0.104    2.5\n",
              "61    4.235   50.4\n",
              "\n",
              "[62 rows x 2 columns]"
            ],
            "text/html": [
              "\n",
              "  <div id=\"df-137c96a7-72e2-46a8-8a03-ba860272d0bc\">\n",
              "    <div class=\"colab-df-container\">\n",
              "      <div>\n",
              "<style scoped>\n",
              "    .dataframe tbody tr th:only-of-type {\n",
              "        vertical-align: middle;\n",
              "    }\n",
              "\n",
              "    .dataframe tbody tr th {\n",
              "        vertical-align: top;\n",
              "    }\n",
              "\n",
              "    .dataframe thead th {\n",
              "        text-align: right;\n",
              "    }\n",
              "</style>\n",
              "<table border=\"1\" class=\"dataframe\">\n",
              "  <thead>\n",
              "    <tr style=\"text-align: right;\">\n",
              "      <th></th>\n",
              "      <th>Brain</th>\n",
              "      <th>Body</th>\n",
              "    </tr>\n",
              "  </thead>\n",
              "  <tbody>\n",
              "    <tr>\n",
              "      <th>0</th>\n",
              "      <td>3.385</td>\n",
              "      <td>44.5</td>\n",
              "    </tr>\n",
              "    <tr>\n",
              "      <th>1</th>\n",
              "      <td>0.480</td>\n",
              "      <td>15.5</td>\n",
              "    </tr>\n",
              "    <tr>\n",
              "      <th>2</th>\n",
              "      <td>1.350</td>\n",
              "      <td>8.1</td>\n",
              "    </tr>\n",
              "    <tr>\n",
              "      <th>3</th>\n",
              "      <td>465.000</td>\n",
              "      <td>423.0</td>\n",
              "    </tr>\n",
              "    <tr>\n",
              "      <th>4</th>\n",
              "      <td>36.330</td>\n",
              "      <td>119.5</td>\n",
              "    </tr>\n",
              "    <tr>\n",
              "      <th>...</th>\n",
              "      <td>...</td>\n",
              "      <td>...</td>\n",
              "    </tr>\n",
              "    <tr>\n",
              "      <th>57</th>\n",
              "      <td>160.000</td>\n",
              "      <td>169.0</td>\n",
              "    </tr>\n",
              "    <tr>\n",
              "      <th>58</th>\n",
              "      <td>0.900</td>\n",
              "      <td>2.6</td>\n",
              "    </tr>\n",
              "    <tr>\n",
              "      <th>59</th>\n",
              "      <td>1.620</td>\n",
              "      <td>11.4</td>\n",
              "    </tr>\n",
              "    <tr>\n",
              "      <th>60</th>\n",
              "      <td>0.104</td>\n",
              "      <td>2.5</td>\n",
              "    </tr>\n",
              "    <tr>\n",
              "      <th>61</th>\n",
              "      <td>4.235</td>\n",
              "      <td>50.4</td>\n",
              "    </tr>\n",
              "  </tbody>\n",
              "</table>\n",
              "<p>62 rows × 2 columns</p>\n",
              "</div>\n",
              "      <button class=\"colab-df-convert\" onclick=\"convertToInteractive('df-137c96a7-72e2-46a8-8a03-ba860272d0bc')\"\n",
              "              title=\"Convert this dataframe to an interactive table.\"\n",
              "              style=\"display:none;\">\n",
              "        \n",
              "  <svg xmlns=\"http://www.w3.org/2000/svg\" height=\"24px\"viewBox=\"0 0 24 24\"\n",
              "       width=\"24px\">\n",
              "    <path d=\"M0 0h24v24H0V0z\" fill=\"none\"/>\n",
              "    <path d=\"M18.56 5.44l.94 2.06.94-2.06 2.06-.94-2.06-.94-.94-2.06-.94 2.06-2.06.94zm-11 1L8.5 8.5l.94-2.06 2.06-.94-2.06-.94L8.5 2.5l-.94 2.06-2.06.94zm10 10l.94 2.06.94-2.06 2.06-.94-2.06-.94-.94-2.06-.94 2.06-2.06.94z\"/><path d=\"M17.41 7.96l-1.37-1.37c-.4-.4-.92-.59-1.43-.59-.52 0-1.04.2-1.43.59L10.3 9.45l-7.72 7.72c-.78.78-.78 2.05 0 2.83L4 21.41c.39.39.9.59 1.41.59.51 0 1.02-.2 1.41-.59l7.78-7.78 2.81-2.81c.8-.78.8-2.07 0-2.86zM5.41 20L4 18.59l7.72-7.72 1.47 1.35L5.41 20z\"/>\n",
              "  </svg>\n",
              "      </button>\n",
              "      \n",
              "  <style>\n",
              "    .colab-df-container {\n",
              "      display:flex;\n",
              "      flex-wrap:wrap;\n",
              "      gap: 12px;\n",
              "    }\n",
              "\n",
              "    .colab-df-convert {\n",
              "      background-color: #E8F0FE;\n",
              "      border: none;\n",
              "      border-radius: 50%;\n",
              "      cursor: pointer;\n",
              "      display: none;\n",
              "      fill: #1967D2;\n",
              "      height: 32px;\n",
              "      padding: 0 0 0 0;\n",
              "      width: 32px;\n",
              "    }\n",
              "\n",
              "    .colab-df-convert:hover {\n",
              "      background-color: #E2EBFA;\n",
              "      box-shadow: 0px 1px 2px rgba(60, 64, 67, 0.3), 0px 1px 3px 1px rgba(60, 64, 67, 0.15);\n",
              "      fill: #174EA6;\n",
              "    }\n",
              "\n",
              "    [theme=dark] .colab-df-convert {\n",
              "      background-color: #3B4455;\n",
              "      fill: #D2E3FC;\n",
              "    }\n",
              "\n",
              "    [theme=dark] .colab-df-convert:hover {\n",
              "      background-color: #434B5C;\n",
              "      box-shadow: 0px 1px 3px 1px rgba(0, 0, 0, 0.15);\n",
              "      filter: drop-shadow(0px 1px 2px rgba(0, 0, 0, 0.3));\n",
              "      fill: #FFFFFF;\n",
              "    }\n",
              "  </style>\n",
              "\n",
              "      <script>\n",
              "        const buttonEl =\n",
              "          document.querySelector('#df-137c96a7-72e2-46a8-8a03-ba860272d0bc button.colab-df-convert');\n",
              "        buttonEl.style.display =\n",
              "          google.colab.kernel.accessAllowed ? 'block' : 'none';\n",
              "\n",
              "        async function convertToInteractive(key) {\n",
              "          const element = document.querySelector('#df-137c96a7-72e2-46a8-8a03-ba860272d0bc');\n",
              "          const dataTable =\n",
              "            await google.colab.kernel.invokeFunction('convertToInteractive',\n",
              "                                                     [key], {});\n",
              "          if (!dataTable) return;\n",
              "\n",
              "          const docLinkHtml = 'Like what you see? Visit the ' +\n",
              "            '<a target=\"_blank\" href=https://colab.research.google.com/notebooks/data_table.ipynb>data table notebook</a>'\n",
              "            + ' to learn more about interactive tables.';\n",
              "          element.innerHTML = '';\n",
              "          dataTable['output_type'] = 'display_data';\n",
              "          await google.colab.output.renderOutput(dataTable, element);\n",
              "          const docLink = document.createElement('div');\n",
              "          docLink.innerHTML = docLinkHtml;\n",
              "          element.appendChild(docLink);\n",
              "        }\n",
              "      </script>\n",
              "    </div>\n",
              "  </div>\n",
              "  "
            ]
          },
          "metadata": {},
          "execution_count": 53
        }
      ]
    },
    {
      "cell_type": "code",
      "source": [
        "reg = linear_model.LinearRegression()\n",
        "body_var = df[['Body']]\n",
        "brain_var = df['Brain']\n",
        "reg.fit(body_var, brain_var)"
      ],
      "metadata": {
        "colab": {
          "base_uri": "https://localhost:8080/"
        },
        "id": "SEM3gC_KZSpd",
        "outputId": "35934e9a-f489-4383-d370-e26a633fbba1"
      },
      "execution_count": 54,
      "outputs": [
        {
          "output_type": "execute_result",
          "data": {
            "text/plain": [
              "LinearRegression()"
            ]
          },
          "metadata": {},
          "execution_count": 54
        }
      ]
    },
    {
      "cell_type": "markdown",
      "source": [
        "**1. Find the linear regression equation for this data for brain weight to body weight.**"
      ],
      "metadata": {
        "id": "jJcyRORLZ18n"
      }
    },
    {
      "cell_type": "code",
      "source": [
        "print(f'Linear Regression Equation: f(x) = {reg.coef_[0]} * x + {reg.intercept_ }')"
      ],
      "metadata": {
        "colab": {
          "base_uri": "https://localhost:8080/"
        },
        "id": "5GZAKSqTZw6j",
        "outputId": "e8413e80-0c17-49e2-b3f2-d43aefa1a14e"
      },
      "execution_count": 55,
      "outputs": [
        {
          "output_type": "stream",
          "name": "stdout",
          "text": [
            "Linear Regression Equation: f(x) = 0.9029129477287057 * x + -56.85554542859637\n"
          ]
        }
      ]
    },
    {
      "cell_type": "markdown",
      "source": [
        "**2. Chart the original data and the equation on the chart.**"
      ],
      "metadata": {
        "id": "-L5pvDpsalKk"
      }
    },
    {
      "cell_type": "code",
      "source": [
        "plt.scatter(body_var, brain_var, color='r')\n",
        "pred = reg.predict(body_var)\n",
        "plt.plot(body_var,pred)\n",
        "plt.xlabel('Body Weight')\n",
        "plt.ylabel('Brain Weight')\n",
        "plt.show()"
      ],
      "metadata": {
        "colab": {
          "base_uri": "https://localhost:8080/",
          "height": 279
        },
        "id": "DVuWgT3xam-I",
        "outputId": "53f9ab6d-84e8-43ba-d14b-63cb2203ed42"
      },
      "execution_count": 56,
      "outputs": [
        {
          "output_type": "display_data",
          "data": {
            "text/plain": [
              "<Figure size 432x288 with 1 Axes>"
            ],
            "image/png": "[encoded data removed]"
          },
          "metadata": {
            "needs_background": "light"
          }
        }
      ]
    },
    {
      "cell_type": "markdown",
      "source": [
        "**3. Find the equation's  R2  score**"
      ],
      "metadata": {
        "id": "aGIdy_ljdjxM"
      }
    },
    {
      "cell_type": "code",
      "source": [
        "print('r-squared: ',reg.score(body_var,brain_var))"
      ],
      "metadata": {
        "colab": {
          "base_uri": "https://localhost:8080/"
        },
        "id": "AYat5geOb3ly",
        "outputId": "ccd5e4d1-f579-4c09-a593-bcb0c6d8753f"
      },
      "execution_count": 57,
      "outputs": [
        {
          "output_type": "stream",
          "name": "stdout",
          "text": [
            "r-squared:  0.8726620843043331\n"
          ]
        }
      ]
    },
    {
      "cell_type": "markdown",
      "metadata": {
        "id": "SXW9VaqNO-TA"
      },
      "source": [
        "# Assignment7"
      ]
    },
    {
      "cell_type": "markdown",
      "metadata": {
        "id": "FUS8_ol5O-TB"
      },
      "source": [
        "## Salary Discrimination\n",
        "\n",
        "The file `salary.txt` contains data for 52 tenure-track professors at a small Midwestern college. This data was used in legal proceedings in the 1980s about discrimination against women in salary.\n",
        "\n",
        "The data in the file, by column:\n",
        "\n",
        "1. Sex. 1 for female, 0 for male.\n",
        "2. Rank. 1 for assistant professor, 2 for associate professor, 3 for full professor.\n",
        "3. Year. Number of years in current rank.\n",
        "4. Degree. Highest degree. 1 for doctorate, 0 for master's.\n",
        "5. YSdeg. Years since highest degree was earned.\n",
        "6. Salary. Salary/year in dollars.\n",
        "\n",
        "### Tasks\n",
        "\n",
        "1. Find the linear regression equation for this data using columns 1-5 to column 6.\n",
        "2. Find the selection of columns with the best $R^2$ score.\n",
        "3. Report whether sex is a factor in salary."
      ]
    },
    {
      "cell_type": "code",
      "execution_count": 58,
      "metadata": {
        "id": "gNlNg3CaO-TD"
      },
      "outputs": [],
      "source": [
        "df = pd.read_fwf(\"/content/salary.txt\", header=None,names=[\"Sex\", \"Rank\", \"Year\", \"Degree\", \"YSdeg\", \"Salary\"])"
      ]
    },
    {
      "cell_type": "code",
      "source": [
        "x = df.drop('Salary',axis=1)\n",
        "y = df['Salary']\n",
        "reg = linear_model.LinearRegression()\n",
        "reg.fit(x,y)"
      ],
      "metadata": {
        "colab": {
          "base_uri": "https://localhost:8080/"
        },
        "id": "gbSRsQDbiSD5",
        "outputId": "15c2734e-5547-4851-a0d1-3822320891fd"
      },
      "execution_count": 59,
      "outputs": [
        {
          "output_type": "execute_result",
          "data": {
            "text/plain": [
              "LinearRegression()"
            ]
          },
          "metadata": {},
          "execution_count": 59
        }
      ]
    },
    {
      "cell_type": "markdown",
      "source": [
        "**1. Find the linear regression equation for this data using columns 1-5 to column 6.**"
      ],
      "metadata": {
        "id": "PsAw-tSOlNp-"
      }
    },
    {
      "cell_type": "code",
      "source": [
        "reg.intercept_"
      ],
      "metadata": {
        "colab": {
          "base_uri": "https://localhost:8080/"
        },
        "id": "9s8noPfxjDqm",
        "outputId": "5a792110-256d-4348-effb-d026175fbef4"
      },
      "execution_count": 60,
      "outputs": [
        {
          "output_type": "execute_result",
          "data": {
            "text/plain": [
              "11410.14654725559"
            ]
          },
          "metadata": {},
          "execution_count": 60
        }
      ]
    },
    {
      "cell_type": "code",
      "source": [
        "reg.coef_"
      ],
      "metadata": {
        "colab": {
          "base_uri": "https://localhost:8080/"
        },
        "id": "BgEZXPzFiyWN",
        "outputId": "62d8001e-5b69-47b5-b1ac-dabcef95742d"
      },
      "execution_count": 61,
      "outputs": [
        {
          "output_type": "execute_result",
          "data": {
            "text/plain": [
              "array([ 1241.7924996 ,  5586.18144952,   482.85976783, -1331.64406341,\n",
              "        -128.79057354])"
            ]
          },
          "metadata": {},
          "execution_count": 61
        }
      ]
    },
    {
      "cell_type": "code",
      "source": [
        "reg.score(x,y)"
      ],
      "metadata": {
        "colab": {
          "base_uri": "https://localhost:8080/"
        },
        "id": "1FEIOTocj5xP",
        "outputId": "e3c90d5b-05df-4a07-e936-dd275364556c"
      },
      "execution_count": 62,
      "outputs": [
        {
          "output_type": "execute_result",
          "data": {
            "text/plain": [
              "0.8547180674410969"
            ]
          },
          "metadata": {},
          "execution_count": 62
        }
      ]
    },
    {
      "cell_type": "markdown",
      "source": [
        "**2. Find the selection of columns with the best  R2  score.**"
      ],
      "metadata": {
        "id": "AX6imIgTly46"
      }
    },
    {
      "cell_type": "code",
      "source": [
        "from itertools import combinations\n",
        "\n",
        "# all possible columns for X\n",
        "cols = [x for x in df.columns if x != 'Salary']\n",
        "# define Y as same accross the loops\n",
        "Y = df['Salary']\n",
        "# define result dictionary\n",
        "fit_d = {}\n",
        "\n",
        "# loop for any length of combinations\n",
        "for i in range(1, len(cols)+1):\n",
        "    # loop for any combinations with length i\n",
        "    for comb in combinations(cols, i):\n",
        "        # Define X from the combination\n",
        "        X = df[list(comb)]\n",
        "        X = sm.add_constant(X)\n",
        "        # perform the OLS opertion\n",
        "        model = sm.OLS(Y,X, missing = 'drop').fit()\n",
        "        # save the rsquared in a dictionnary\n",
        "        fit_d[comb] = model.rsquared\n",
        "\n",
        "print(fit_d)\n",
        "# extract the key for the max R value\n",
        "key_max = max(fit_d, key=fit_d.get)\n",
        "\n",
        "print(f'Best variables {key_max} for a R-value of {round(fit_d[key_max], 5)}')"
      ],
      "metadata": {
        "colab": {
          "base_uri": "https://localhost:8080/"
        },
        "id": "PZtWVlDSl1Uv",
        "outputId": "795ff067-ecc0-41dd-d5b5-429e4dcf4007"
      },
      "execution_count": 63,
      "outputs": [
        {
          "output_type": "stream",
          "name": "stdout",
          "text": [
            "{('Sex',): 0.06389892583288015, ('Rank',): 0.7525360539274631, ('Year',): 0.49093702676921624, ('Degree',): 0.004861680984748484, ('YSdeg',): 0.45542813458360276, ('Sex', 'Rank'): 0.7554917749443394, ('Sex', 'Year'): 0.4911360941886388, ('Sex', 'Degree'): 0.06643739842018892, ('Sex', 'YSdeg'): 0.49304792719667834, ('Rank', 'Year'): 0.8436480933264598, ('Rank', 'Degree'): 0.7557961688386643, ('Rank', 'YSdeg'): 0.7623948189698249, ('Year', 'Degree'): 0.4919014149016442, ('Year', 'YSdeg'): 0.5782019226431887, ('Degree', 'YSdeg'): 0.5409662288237875, ('Sex', 'Rank', 'Year'): 0.8454319861987165, ('Sex', 'Rank', 'Degree'): 0.7583144768153612, ('Sex', 'Rank', 'YSdeg'): 0.7666122610227071, ('Sex', 'Year', 'Degree'): 0.49207944757472966, ('Sex', 'Year', 'YSdeg'): 0.5808063918180406, ('Sex', 'Degree', 'YSdeg'): 0.5832708257660315, ('Rank', 'Year', 'Degree'): 0.8437395200874137, ('Rank', 'Year', 'YSdeg'): 0.8456725764485596, ('Rank', 'Degree', 'YSdeg'): 0.7625149185326454, ('Year', 'Degree', 'YSdeg'): 0.6236261611533503, ('Sex', 'Rank', 'Year', 'Degree'): 0.845547641297936, ('Sex', 'Rank', 'Year', 'YSdeg'): 0.8490366192262851, ('Sex', 'Rank', 'Degree', 'YSdeg'): 0.7671813414350668, ('Sex', 'Year', 'Degree', 'YSdeg'): 0.6311597502907434, ('Rank', 'Year', 'Degree', 'YSdeg'): 0.8485077204335426, ('Sex', 'Rank', 'Year', 'Degree', 'YSdeg'): 0.854718067441097}\n",
            "Best variables ('Sex', 'Rank', 'Year', 'Degree', 'YSdeg') for a R-value of 0.85472\n"
          ]
        }
      ]
    },
    {
      "cell_type": "markdown",
      "source": [
        "**3. Report whether sex is a factor in salary.**"
      ],
      "metadata": {
        "id": "3MkueV6ytH0g"
      }
    },
    {
      "cell_type": "markdown",
      "source": [
        "Sex feature in the training data `does not have a significant influence`, its R2 Score alone in predicting target variable is `0.063898925832880038`, indicating that it has no direct influence on salary."
      ],
      "metadata": {
        "id": "iDBT1gQwt1xa"
      }
    }
  ],
  "metadata": {
    "kernelspec": {
      "display_name": "Python 3",
      "language": "python",
      "name": "python3"
    },
    "language_info": {
      "codemirror_mode": {
        "name": "ipython",
        "version": 3
      },
      "file_extension": ".py",
      "mimetype": "text/x-python",
      "name": "python",
      "nbconvert_exporter": "python",
      "pygments_lexer": "ipython3",
      "version": "3.8.3"
    },
    "colab": {
      "name": "Copy of Assignment5_6_7.ipynb",
      "provenance": [],
      "collapsed_sections": []
    }
  },
  "nbformat": 4,
  "nbformat_minor": 0
}